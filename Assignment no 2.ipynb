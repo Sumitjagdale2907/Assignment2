{
 "cells": [
  {
   "cell_type": "markdown",
   "id": "bc0ed2cf",
   "metadata": {},
   "source": [
    "# 1.What are the two values of the Boolean data type? How do you write them?"
   ]
  },
  {
   "cell_type": "markdown",
   "id": "0a03a785",
   "metadata": {},
   "source": [
    "The Boolean data type represents two values: true and false. \n",
    "\n",
    "In programming, these values are typically written as \"True\" and \"False\", respectively. Boolean values are used to perform logical operations, make decisions, and control the flow of programs."
   ]
  },
  {
   "cell_type": "markdown",
   "id": "7616ccb8",
   "metadata": {},
   "source": [
    "# 2. What are the three different types of Boolean operators?"
   ]
  },
  {
   "cell_type": "markdown",
   "id": "029b2df3",
   "metadata": {},
   "source": [
    "There are 3 different types of Boolean operators,namely AND,OR & NOT.\n",
    "### AND operator: \n",
    "It is represented by the symbol \"&&\" or the keyword \"AND\". It returns true if both operands are true; otherwise, it returns false.\n",
    "\n",
    "### OR operator: \n",
    "It is represented by the symbol \"||\" or the keyword \"OR\". It returns true if at least one of the operands is true; otherwise, it returns false.\n",
    "\n",
    "### NOT operator: \n",
    "It is represented by the symbol \"!\" or the keyword \"NOT\". It returns the opposite boolean value of the operand. If the operand is true, it returns false, and if the operand is false, it returns true"
   ]
  },
  {
   "cell_type": "markdown",
   "id": "712ef21c",
   "metadata": {},
   "source": [
    "# 3. Make a list of each Boolean operator&#39;s truth tables (i.e. every possible combination of Boolean values for the operator and what it evaluate )"
   ]
  },
  {
   "cell_type": "markdown",
   "id": "787d9e04",
   "metadata": {},
   "source": [
    "Possible combinations are:\n",
    "\n",
    "### For AND operator\n",
    "True  AND True is True.\n",
    "\n",
    "True  AND False is False.\n",
    "\n",
    "False AND True is False.\n",
    "\n",
    "False AND False is False.\n",
    "\n",
    "### For OR operator\n",
    "True  OR True is True.\n",
    "\n",
    "True  OR False is True.\n",
    "\n",
    "False OR True is True.\n",
    "\n",
    "False OR False is False.\n",
    "\n",
    "### For NOT operator\n",
    "\n",
    "NOT  True is False.\n",
    "\n",
    "NOT  False is True."
   ]
  },
  {
   "cell_type": "markdown",
   "id": "e28ae208",
   "metadata": {},
   "source": [
    "# 4. What are the values of the following expressions?"
   ]
  },
  {
   "cell_type": "markdown",
   "id": "dd6f9390",
   "metadata": {},
   "source": [
    "#### (5 &gt; 4) and (3 == 5)\n",
    "#### not (5 &gt; 4)\n",
    "#### (5 &gt; 4) or (3 == 5)\n",
    "#### not ((5 &gt; 4) or (3 == 5))\n",
    "#### (True and True) and (True == False)\n",
    "#### (not False) or (not True)"
   ]
  },
  {
   "cell_type": "markdown",
   "id": "26b0a538",
   "metadata": {},
   "source": [
    "1.(5 > 4) and (3 == 5) evaluates to False.\n",
    "\n",
    "2.not (5 > 4) evaluates to False.\n",
    "\n",
    "3.(5 > 4) or (3 == 5) evaluates to True.\n",
    "\n",
    "4.not ((5 > 4) or (3 == 5)) evaluates to False.\n",
    "\n",
    "5.(True and True) and (True == False) evaluates to False.\n",
    "\n",
    "6.(not False) or (not True) evaluates to True."
   ]
  },
  {
   "cell_type": "markdown",
   "id": "1389ead4",
   "metadata": {},
   "source": [
    "# 5. What are the six comparison operators?"
   ]
  },
  {
   "cell_type": "markdown",
   "id": "f07262f3",
   "metadata": {},
   "source": [
    "### The six comparison operators are:\n",
    "\n",
    "Equal to (==):     Checks if two values are equal\n",
    "\n",
    "Not equal to (!=): Checks if two values are not equal.\n",
    "\n",
    "Greater than (>):  Checks if the left operand is greater than the right operand.\n",
    "\n",
    "Less than (<):     Checks if the left operand is less than the right operand.\n",
    "\n",
    "Greater than or equal to (>=): Checks if the left operand is greater than or equal to the right operand.\n",
    "\n",
    "Less than or equal to (<=):    Checks if the left operand is less than or equal to the right operand."
   ]
  },
  {
   "cell_type": "markdown",
   "id": "e34c1994",
   "metadata": {},
   "source": [
    "# 6. How do you tell the difference between the equal to and assignment operators?Describe a condition and when you would use one."
   ]
  },
  {
   "cell_type": "markdown",
   "id": "26606370",
   "metadata": {},
   "source": [
    "\n",
    "The difference is that the equal to operator (==) is used for comparison, while the assignment operator (=) is used for assigning values to variables.\n",
    "\n",
    "Condition for Difference operator and asignment operator is:\n",
    "The Difference operator(==) is the equal to operator that compares two values and evaluates to a Boolean, while Assignment operator (=) is the  operator that stores a value in a variable"
   ]
  },
  {
   "cell_type": "markdown",
   "id": "cca15be8",
   "metadata": {},
   "source": [
    "# 7. Identify the three blocks in this code:"
   ]
  },
  {
   "cell_type": "markdown",
   "id": "70481a80",
   "metadata": {},
   "source": [
    "#### spam = 0\n",
    "#### if spam == 10:\n",
    "#### print('eggs')\n",
    "#### if spam > 5:\n",
    "#### print('bacon')\n",
    "#### else:\n",
    "#### print('ham)\n",
    "#### print('spam')\n",
    "#### print('spam')"
   ]
  },
  {
   "cell_type": "code",
   "execution_count": 1,
   "id": "c0a31734",
   "metadata": {},
   "outputs": [
    {
     "name": "stdout",
     "output_type": "stream",
     "text": [
      "ham\n"
     ]
    }
   ],
   "source": [
    "spam = 0\n",
    "if spam == 10:\n",
    "    print('eggs')\n",
    "else:\n",
    "    print('ham')"
   ]
  },
  {
   "cell_type": "code",
   "execution_count": 2,
   "id": "28d543d7",
   "metadata": {},
   "outputs": [
    {
     "name": "stdout",
     "output_type": "stream",
     "text": [
      "spam\n"
     ]
    }
   ],
   "source": [
    "if spam > 5:\n",
    "      print('bacon')\n",
    "else:\n",
    "    print('spam')"
   ]
  },
  {
   "cell_type": "markdown",
   "id": "3dbbaa48",
   "metadata": {},
   "source": [
    "# 8. Write code that prints Hello if 1 is stored in spam, prints Howdy if 2 is stored in spam, and prints Greetings! if anything else is stored in spam."
   ]
  },
  {
   "cell_type": "code",
   "execution_count": 3,
   "id": "1bd23b67",
   "metadata": {},
   "outputs": [
    {
     "name": "stdout",
     "output_type": "stream",
     "text": [
      "Greetings!\n"
     ]
    }
   ],
   "source": [
    "spam=5\n",
    "if spam==1:\n",
    "    print('Hello')\n",
    "elif spam==2:\n",
    "     print(\"Howdy\")\n",
    "else:\n",
    "     print('Greetings!')"
   ]
  },
  {
   "cell_type": "markdown",
   "id": "c054781e",
   "metadata": {},
   "source": [
    "# 9.If your programme is stuck in an endless loop, what keys you’ll press?"
   ]
  },
  {
   "cell_type": "markdown",
   "id": "2a8763f7",
   "metadata": {},
   "source": [
    "You can stop an infinite loop with CTRL+C"
   ]
  },
  {
   "cell_type": "markdown",
   "id": "d7959bea",
   "metadata": {},
   "source": [
    "# 10. How can you tell the difference between break and continue?"
   ]
  },
  {
   "cell_type": "markdown",
   "id": "590b8488",
   "metadata": {},
   "source": [
    "Break:A 'break' statement in Python alters the flow of a loop by terminating it once a specified condition is met. or 'break' statement terminates the loop entirely.\n",
    "\n",
    "Continue: The 'continue' statement in Python is used to skip the remaining code inside a loop for the current iteration only or 'continue' statement skips the remaining code in the current iteration and moves to the next iteration."
   ]
  },
  {
   "cell_type": "markdown",
   "id": "9fbdd7dc",
   "metadata": {},
   "source": [
    "# 11. In a for loop, what is the difference between range(10), range(0, 10), and range(0, 10, 1)?"
   ]
  },
  {
   "cell_type": "markdown",
   "id": "31e93d87",
   "metadata": {},
   "source": [
    "### range(10):\n",
    " This expression creates a sequence of numbers starting from 0 and ending at 9 (10 numbers in total). The starting value is omitted, and by default, it assumes a starting value of 0\n",
    " \n",
    "### range(0,10):\n",
    "  This expression creates a sequence of numbers starting from 0 and ending at 9 (10 numbers in total).Here both starting and end value is specified\n",
    "\n",
    "### range(0,10,1):\n",
    " This expression creates a sequence of numbers starting from 0 and ending at 9 (10 numbers in total) with the step size 1.The step size determines the difference between consecutive numbers in the sequence. Since the step size is 1, the numbers will be generated incrementally by 1."
   ]
  },
  {
   "cell_type": "code",
   "execution_count": 4,
   "id": "3b3b8a28",
   "metadata": {},
   "outputs": [
    {
     "name": "stdout",
     "output_type": "stream",
     "text": [
      "0\n",
      "1\n",
      "2\n",
      "3\n",
      "4\n",
      "5\n",
      "6\n",
      "7\n",
      "8\n",
      "9\n"
     ]
    }
   ],
   "source": [
    "for i in range(10):\n",
    "    print(i)"
   ]
  },
  {
   "cell_type": "code",
   "execution_count": 5,
   "id": "e9a81ef7",
   "metadata": {},
   "outputs": [
    {
     "name": "stdout",
     "output_type": "stream",
     "text": [
      "0\n",
      "1\n",
      "2\n",
      "3\n",
      "4\n",
      "5\n",
      "6\n",
      "7\n",
      "8\n",
      "9\n"
     ]
    }
   ],
   "source": [
    "for i in range(0,10):\n",
    "    print(i)"
   ]
  },
  {
   "cell_type": "code",
   "execution_count": 6,
   "id": "ad553174",
   "metadata": {},
   "outputs": [
    {
     "name": "stdout",
     "output_type": "stream",
     "text": [
      "0\n",
      "1\n",
      "2\n",
      "3\n",
      "4\n",
      "5\n",
      "6\n",
      "7\n",
      "8\n",
      "9\n"
     ]
    }
   ],
   "source": [
    "for i in range(0,10,1):\n",
    "    print(i)\n",
    "    "
   ]
  },
  {
   "cell_type": "markdown",
   "id": "abdd994d",
   "metadata": {},
   "source": [
    "# 12. Write a short program that prints the numbers 1 to 10 using a for loop. Then write an equivalent program that prints the numbers 1 to 10 using a while loop."
   ]
  },
  {
   "cell_type": "code",
   "execution_count": 7,
   "id": "3fd3a71b",
   "metadata": {},
   "outputs": [
    {
     "name": "stdout",
     "output_type": "stream",
     "text": [
      "1\n",
      "2\n",
      "3\n",
      "4\n",
      "5\n",
      "6\n",
      "7\n",
      "8\n",
      "9\n",
      "10\n"
     ]
    }
   ],
   "source": [
    "for i in range(1,11):\n",
    "    print(i)"
   ]
  },
  {
   "cell_type": "code",
   "execution_count": 10,
   "id": "cff90475",
   "metadata": {},
   "outputs": [
    {
     "name": "stdout",
     "output_type": "stream",
     "text": [
      "1\n",
      "2\n",
      "3\n",
      "4\n",
      "5\n",
      "6\n",
      "7\n",
      "8\n",
      "9\n",
      "10\n"
     ]
    }
   ],
   "source": [
    "a=0\n",
    "while a<10:\n",
    "    a=a+1\n",
    "    print(a)"
   ]
  },
  {
   "cell_type": "markdown",
   "id": "8b011c33",
   "metadata": {},
   "source": [
    "# 13. If you had a function named bacon() inside a module named spam, how would you call it after importing spam?"
   ]
  },
  {
   "cell_type": "markdown",
   "id": "61c854d8",
   "metadata": {},
   "source": [
    "After importing spam the function can be  called with spam.bacon()"
   ]
  },
  {
   "cell_type": "code",
   "execution_count": null,
   "id": "ef7e52b8",
   "metadata": {},
   "outputs": [],
   "source": []
  }
 ],
 "metadata": {
  "kernelspec": {
   "display_name": "Python 3 (ipykernel)",
   "language": "python",
   "name": "python3"
  },
  "language_info": {
   "codemirror_mode": {
    "name": "ipython",
    "version": 3
   },
   "file_extension": ".py",
   "mimetype": "text/x-python",
   "name": "python",
   "nbconvert_exporter": "python",
   "pygments_lexer": "ipython3",
   "version": "3.9.13"
  }
 },
 "nbformat": 4,
 "nbformat_minor": 5
}
